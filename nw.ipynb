{
 "cells": [
  {
   "cell_type": "markdown",
   "id": "11552e16",
   "metadata": {},
   "source": [
    "# Needleman Wunsch alignment"
   ]
  },
  {
   "cell_type": "code",
   "execution_count": 23,
   "id": "e08034ec",
   "metadata": {},
   "outputs": [],
   "source": [
    "import numpy as np"
   ]
  },
  {
   "cell_type": "code",
   "execution_count": null,
   "id": "1050208a",
   "metadata": {},
   "outputs": [],
   "source": [
    "seq1 = \"ATGCG\"\n",
    "seq2 = \"ATCGC\""
   ]
  },
  {
   "cell_type": "code",
   "execution_count": 25,
   "id": "ba379633",
   "metadata": {},
   "outputs": [],
   "source": [
    "main_matrix = np.zeros((len(seq1)+1,len(seq2)+1))"
   ]
  },
  {
   "cell_type": "code",
   "execution_count": 27,
   "id": "0a08b324",
   "metadata": {},
   "outputs": [
    {
     "data": {
      "text/plain": [
       "array([[0., 0., 0., 0., 0., 0.],\n",
       "       [0., 0., 0., 0., 0., 0.],\n",
       "       [0., 0., 0., 0., 0., 0.],\n",
       "       [0., 0., 0., 0., 0., 0.],\n",
       "       [0., 0., 0., 0., 0., 0.],\n",
       "       [0., 0., 0., 0., 0., 0.]])"
      ]
     },
     "execution_count": 27,
     "metadata": {},
     "output_type": "execute_result"
    }
   ],
   "source": [
    "main_matrix"
   ]
  },
  {
   "cell_type": "code",
   "execution_count": 28,
   "id": "e4480237",
   "metadata": {},
   "outputs": [],
   "source": [
    "match_checker_matrix = np.zeros((len(seq1),len(seq2)))"
   ]
  },
  {
   "cell_type": "code",
   "execution_count": 29,
   "id": "6101b14f",
   "metadata": {},
   "outputs": [
    {
     "data": {
      "text/plain": [
       "array([[0., 0., 0., 0., 0.],\n",
       "       [0., 0., 0., 0., 0.],\n",
       "       [0., 0., 0., 0., 0.],\n",
       "       [0., 0., 0., 0., 0.],\n",
       "       [0., 0., 0., 0., 0.]])"
      ]
     },
     "execution_count": 29,
     "metadata": {},
     "output_type": "execute_result"
    }
   ],
   "source": [
    "match_checker_matrix"
   ]
  },
  {
   "cell_type": "code",
   "execution_count": 30,
   "id": "8826caa3",
   "metadata": {},
   "outputs": [],
   "source": [
    "match = 1\n",
    "mismatch = -1\n",
    "gap_penality = -2"
   ]
  },
  {
   "cell_type": "code",
   "execution_count": 42,
   "id": "8735e772",
   "metadata": {},
   "outputs": [],
   "source": [
    "for i in range (len(seq1)):\n",
    "    for j in range (len(seq2)):\n",
    "        if (seq1[i] == seq2[j]):\n",
    "            match_checker_matrix[i][j] = match\n",
    "        else:\n",
    "            match_checker_matrix[i][j] = mismatch"
   ]
  },
  {
   "cell_type": "code",
   "execution_count": 43,
   "id": "f2e8541d",
   "metadata": {},
   "outputs": [],
   "source": [
    "for i in range(len(seq1)+1):\n",
    "    main_matrix[i][0] = i*gap_penality\n",
    "    \n",
    "for j in range(len(seq2)+1):\n",
    "    main_matrix[0][j] = j * gap_penality"
   ]
  },
  {
   "cell_type": "code",
   "execution_count": 44,
   "id": "98efd01e",
   "metadata": {},
   "outputs": [],
   "source": [
    "for i in range(1, len(seq1)+1):\n",
    "    for j in range(1, len(seq2)+1):\n",
    "        main_matrix[i][j] = max(main_matrix[i-1][j-1] + match_checker_matrix[i-1][j-1],\n",
    "                               main_matrix[i-1][j] + gap_penality,\n",
    "                               main_matrix[i][j-1] + gap_penality)"
   ]
  },
  {
   "cell_type": "code",
   "execution_count": 45,
   "id": "b1b116c8",
   "metadata": {},
   "outputs": [
    {
     "data": {
      "text/plain": [
       "array([[  0.,  -2.,  -4.,  -6.,  -8., -10.],\n",
       "       [ -2.,   1.,  -1.,  -3.,  -5.,  -7.],\n",
       "       [ -4.,  -1.,   2.,   0.,  -2.,  -4.],\n",
       "       [ -6.,  -3.,   0.,   1.,   1.,  -1.],\n",
       "       [ -8.,  -5.,  -2.,   1.,   0.,   2.],\n",
       "       [-10.,  -7.,  -4.,  -1.,   2.,   0.]])"
      ]
     },
     "execution_count": 45,
     "metadata": {},
     "output_type": "execute_result"
    }
   ],
   "source": [
    "main_matrix"
   ]
  },
  {
   "cell_type": "code",
   "execution_count": 51,
   "id": "af61940b",
   "metadata": {},
   "outputs": [],
   "source": [
    "aligned1 = \"\"\n",
    "aligned2 = \"\"\n",
    "\n",
    "ti = len(aligned1)-1\n",
    "tj = len(aligned2)-1\n",
    "\n",
    "while(ti > 0 and tj > 0):\n",
    "    \n",
    "    if(ti > 0 and tj > 0 and main_matrix[ti][tj] == main_matrix[ti-1][tj-1] + match_checker_matrix[ti-1][tj-1]):\n",
    "        aligned1 = seq1[ti-1] + aligned1\n",
    "        aligned2 = seq2[tj-1] + aligned2\n",
    "        \n",
    "        ti = ti-1\n",
    "        tj = tj-1\n",
    "    \n",
    "    elif (ti > 0 and main_matrix[ti][tj] ==main_matrix[ti-1][tj] + gap_penality ):\n",
    "        aligned1 = seq1[ti-1] + aligned1\n",
    "        aligned2 = \"-\" + aligned2\n",
    "        ti = ti-1\n",
    "\n",
    "        \n",
    "    else:\n",
    "        aligned1 = \"-\" + aligned1\n",
    "        aligned2 = seq2[tj-1] + aligned2\n",
    "        \n",
    "        tj = tj - 1\n",
    "\n",
    "        \n",
    "    \n",
    "    "
   ]
  },
  {
   "cell_type": "code",
   "execution_count": 52,
   "id": "96cdad5f",
   "metadata": {},
   "outputs": [
    {
     "data": {
      "text/plain": [
       "''"
      ]
     },
     "execution_count": 52,
     "metadata": {},
     "output_type": "execute_result"
    }
   ],
   "source": [
    "aligned1"
   ]
  },
  {
   "cell_type": "code",
   "execution_count": 1,
   "id": "697ccace",
   "metadata": {},
   "outputs": [],
   "source": [
    "def needleman_wunsch(seq1, seq2, gap_penalty, match_score, mismatch_score):\n",
    "    # Initialize the score matrix\n",
    "    rows = len(seq1) + 1\n",
    "    cols = len(seq2) + 1\n",
    "    score = [[0 for j in range(cols)] for i in range(rows)]\n",
    "\n",
    "    # Initialize the first row and column of the score matrix\n",
    "    for i in range(1, rows):\n",
    "        score[i][0] = gap_penalty * i\n",
    "    for j in range(1, cols):\n",
    "        score[0][j] = gap_penalty * j\n",
    "\n",
    "    # Fill in the rest of the score matrix\n",
    "    for i in range(1, rows):\n",
    "        for j in range(1, cols):\n",
    "            # Calculate the score for a match or mismatch\n",
    "            if seq1[i - 1] == seq2[j - 1]:\n",
    "                match = score[i - 1][j - 1] + match_score\n",
    "            else:\n",
    "                match = score[i - 1][j - 1] + mismatch_score\n",
    "            # Calculate the score for a gap in sequence 1\n",
    "            gap1 = score[i - 1][j] + gap_penalty\n",
    "            # Calculate the score for a gap in sequence 2\n",
    "            gap2 = score[i][j - 1] + gap_penalty\n",
    "            # Choose the maximum score\n",
    "            score[i][j] = max(match, gap1, gap2)\n",
    "\n",
    "    # Traceback to find the optimal alignment\n",
    "    align1 = ''\n",
    "    align2 = ''\n",
    "    i = rows - 1\n",
    "    j = cols - 1\n",
    "    while i > 0 and j > 0:\n",
    "        if score[i][j] == score[i - 1][j - 1] + (match_score if seq1[i - 1] == seq2[j - 1] else mismatch_score):\n",
    "            align1 = seq1[i - 1] + align1\n",
    "            align2 = seq2[j - 1] + align2\n",
    "            i -= 1\n",
    "            j -= 1\n",
    "        elif score[i][j] == score[i - 1][j] + gap_penalty:\n",
    "            align1 = seq1[i - 1] + align1\n",
    "            align2 = '-' + align2\n",
    "            i -= 1\n",
    "        else:\n",
    "            align1 = '-' + align1\n",
    "            align2 = seq2[j - 1] + align2\n",
    "            j -= 1\n",
    "\n",
    "    # Add any remaining characters\n",
    "    while i > 0:\n",
    "        align1 = seq1[i - 1] + align1\n",
    "        align2 = '-' + align2\n",
    "        i -= 1\n",
    "    while j > 0:\n",
    "        align1 = '-' + align1\n",
    "        align2 = seq2[j - 1] + align2\n",
    "        j -= 1\n",
    "\n",
    "    return align1, align2, score[-1][-1]\n",
    "\n",
    "\n"
   ]
  },
  {
   "cell_type": "code",
   "execution_count": 2,
   "id": "a0f9d19b",
   "metadata": {},
   "outputs": [
    {
     "name": "stdout",
     "output_type": "stream",
     "text": [
      "('-ab-cde', 'cabccde', 8)\n"
     ]
    }
   ],
   "source": [
    "seq1 = \"abcde\"\n",
    "seq2 = \"cabccde\"\n",
    "print(needleman_wunsch(seq1,seq2,-1,2,-1))"
   ]
  },
  {
   "cell_type": "code",
   "execution_count": null,
   "id": "7fd3e87a",
   "metadata": {},
   "outputs": [],
   "source": []
  }
 ],
 "metadata": {
  "kernelspec": {
   "display_name": "Python 3 (ipykernel)",
   "language": "python",
   "name": "python3"
  },
  "language_info": {
   "codemirror_mode": {
    "name": "ipython",
    "version": 3
   },
   "file_extension": ".py",
   "mimetype": "text/x-python",
   "name": "python",
   "nbconvert_exporter": "python",
   "pygments_lexer": "ipython3",
   "version": "3.10.6"
  }
 },
 "nbformat": 4,
 "nbformat_minor": 5
}
