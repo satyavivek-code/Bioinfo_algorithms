{
 "cells": [
  {
   "cell_type": "code",
   "execution_count": 3,
   "id": "b93e1c34",
   "metadata": {},
   "outputs": [
    {
     "name": "stdout",
     "output_type": "stream",
     "text": [
      "(9, 'ab-cde', 'abccde')\n"
     ]
    }
   ],
   "source": [
    "'''\n",
    "Smith Watermann algorithm for Sequence alignment\n",
    "\n",
    "'''\n",
    "\n",
    "\n",
    "\n",
    "def smith_waterman(seq1, seq2, match_score=2, mismatch_score=-1, gap_penalty=-1):\n",
    "    score_matrix = [[0 for j in range(len(seq2)+1)] for i in range(len(seq1)+1)]\n",
    "    max_score = 0\n",
    "    max_pos = (0, 0)\n",
    "   \n",
    "    for i in range(1, len(seq1)+1):\n",
    "        for j in range(1, len(seq2)+1):\n",
    "            if seq1[i-1] == seq2[j-1]:\n",
    "                match = match_score\n",
    "            else:\n",
    "                match = mismatch_score\n",
    "           \n",
    "            deletion = score_matrix[i-1][j] + gap_penalty\n",
    "            insertion = score_matrix[i][j-1] + gap_penalty\n",
    "            diagonal = score_matrix[i-1][j-1] + match\n",
    "           \n",
    "            maxi = max(0, deletion, insertion, diagonal)\n",
    "           \n",
    "            score_matrix[i][j] = maxi\n",
    "            if score_matrix[i][j] > max_score:\n",
    "                max_score = score_matrix[i][j]\n",
    "                max_pos = (i, j)\n",
    "   \n",
    "    align1 = \"\"\n",
    "    align2 = \"\"\n",
    "    i, j = max_pos\n",
    "    while(score_matrix[i][j] != 0):\n",
    "        if(seq1[i-1]== seq2[j-1]):\n",
    "            align1 = seq1[i-1]+align1\n",
    "            align2 = seq2[j-1]+align2\n",
    "            i -= 1\n",
    "            j -= 1\n",
    "        else:\n",
    "            if score_matrix[i-1][j] > score_matrix[i][j-1]:\n",
    "                align1 = seq1[i-1]+align1\n",
    "                align2 = \"-\"+align2\n",
    "                i -= 1\n",
    "            else:\n",
    "                align1 = \"-\"+align1\n",
    "                align2 = seq2[j-1]+align2\n",
    "                j -= 1\n",
    "           \n",
    "    return max_score, align1, align2\n",
    "seq1 = \"abcde\"\n",
    "seq2 = \"cabccde\"\n",
    "print(smith_waterman(seq1,seq2))"
   ]
  },
  {
   "cell_type": "code",
   "execution_count": null,
   "id": "2b4f77b3",
   "metadata": {},
   "outputs": [],
   "source": []
  }
 ],
 "metadata": {
  "kernelspec": {
   "display_name": "Python 3 (ipykernel)",
   "language": "python",
   "name": "python3"
  },
  "language_info": {
   "codemirror_mode": {
    "name": "ipython",
    "version": 3
   },
   "file_extension": ".py",
   "mimetype": "text/x-python",
   "name": "python",
   "nbconvert_exporter": "python",
   "pygments_lexer": "ipython3",
   "version": "3.10.6"
  }
 },
 "nbformat": 4,
 "nbformat_minor": 5
}
